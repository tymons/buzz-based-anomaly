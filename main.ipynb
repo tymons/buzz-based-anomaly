{
 "cells": [
  {
   "cell_type": "code",
   "execution_count": 31,
   "outputs": [
    {
     "data": {
      "text/plain": "<module 'utils.data_utils' from 'C:\\\\Users\\\\tymot\\\\projects\\\\001.smartula\\\\smartula-analysis\\\\buzz-based-anomaly\\\\utils\\\\data_utils.py'>"
     },
     "execution_count": 31,
     "metadata": {},
     "output_type": "execute_result"
    }
   ],
   "source": [
    "import importlib\n",
    "import utils.data_utils as du\n",
    "importlib.reload(du)"
   ],
   "metadata": {
    "collapsed": false,
    "pycharm": {
     "name": "#%%\n"
    }
   }
  },
  {
   "cell_type": "code",
   "execution_count": 33,
   "metadata": {
    "collapsed": true,
    "pycharm": {
     "name": "#%%\n"
    }
   },
   "outputs": [
    {
     "name": "stdout",
     "output_type": "stream",
     "text": [
      "81715\n",
      "38395\n"
     ]
    }
   ],
   "source": [
    "import utils.data_utils as du\n",
    "\n",
    "from pathlib import Path\n",
    "from datetime import datetime, timedelta\n",
    "\n",
    "\n",
    "smartula_root = Path('./dataset/smartula')\n",
    "sound_filenames = du.get_valid_sounds_datalist(list(smartula_root.glob('*')))\n",
    "sound_filenames = du.filter_by_datetime(sound_filenames, start=datetime(2020, 8, 10), end=datetime(2021, 8, 20))\n"
   ]
  }
 ],
 "metadata": {
  "kernelspec": {
   "name": "pycharm-8e6839ef",
   "language": "python",
   "display_name": "PyCharm (buzz-based-anomaly)"
  },
  "language_info": {
   "codemirror_mode": {
    "name": "ipython",
    "version": 2
   },
   "file_extension": ".py",
   "mimetype": "text/x-python",
   "name": "python",
   "nbconvert_exporter": "python",
   "pygments_lexer": "ipython2",
   "version": "2.7.6"
  }
 },
 "nbformat": 4,
 "nbformat_minor": 0
}