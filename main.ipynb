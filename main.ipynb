{
 "cells": [
  {
   "cell_type": "code",
   "execution_count": 43,
   "outputs": [
    {
     "data": {
      "text/plain": "<module 'utils.data_utils' from 'C:\\\\Users\\\\tymot\\\\projects\\\\001.smartula\\\\smartula-analysis\\\\buzz-based-anomaly\\\\utils\\\\data_utils.py'>"
     },
     "execution_count": 43,
     "metadata": {},
     "output_type": "execute_result"
    }
   ],
   "source": [
    "import importlib\n",
    "import utils.data_utils as du\n",
    "importlib.reload(du)"
   ],
   "metadata": {
    "collapsed": false,
    "pycharm": {
     "name": "#%%\n"
    }
   }
  },
  {
   "cell_type": "code",
   "execution_count": 47,
   "metadata": {
    "collapsed": true,
    "pycharm": {
     "name": "#%%\n"
    }
   },
   "outputs": [],
   "source": [
    "import utils.data_utils as du\n",
    "\n",
    "from pathlib import Path\n",
    "from datetime import datetime, timedelta\n",
    "\n",
    "HIVES_UNDER_ANALYSIS = [ 'DEADBEEF93', 'DEADBEEF95', 'DEADBEEF94', 'DEADBEEF97']\n",
    "\n",
    "smartula_root = Path('./dataset/smartula')\n",
    "sound_filenames = du.get_valid_sounds_datalist(list(smartula_root.glob('*')))\n",
    "sound_filenames = du.filter_by_datetime(sound_filenames, start=datetime(2020, 8, 10) + timedelta(hours=2), end=datetime(2021, 8, 20) + timedelta(hours=2))\n",
    "sound_filenames = du.filter_string_list(sound_filenames, *HIVES_UNDER_ANALYSIS)"
   ]
  }
 ],
 "metadata": {
  "kernelspec": {
   "name": "pycharm-8e6839ef",
   "language": "python",
   "display_name": "PyCharm (buzz-based-anomaly)"
  },
  "language_info": {
   "codemirror_mode": {
    "name": "ipython",
    "version": 2
   },
   "file_extension": ".py",
   "mimetype": "text/x-python",
   "name": "python",
   "nbconvert_exporter": "python",
   "pygments_lexer": "ipython2",
   "version": "2.7.6"
  }
 },
 "nbformat": 4,
 "nbformat_minor": 0
}